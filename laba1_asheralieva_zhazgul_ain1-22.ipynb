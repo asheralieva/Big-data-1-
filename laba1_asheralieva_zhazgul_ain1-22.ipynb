{
 "cells": [
  {
   "metadata": {},
   "cell_type": "markdown",
   "source": "",
   "id": "faec75caf227af7c"
  },
  {
   "metadata": {},
   "cell_type": "code",
   "source": [
    "\n",
    "from scipy.special import equation, result\n",
    "from win32pdhutil import counter_english_map\n",
    "\n",
    "print('Hello')"
   ],
   "id": "3183a85bdf29c895",
   "outputs": [],
   "execution_count": null
  },
  {
   "metadata": {},
   "cell_type": "code",
   "source": [
    "i=2\n",
    "print(i)"
   ],
   "id": "6117cb2badfdc1af",
   "outputs": [],
   "execution_count": null
  },
  {
   "metadata": {},
   "cell_type": "code",
   "source": [
    "a=8\n",
    "t=type(a)\n",
    "print(t)"
   ],
   "id": "82221f0dc562969a",
   "outputs": [],
   "execution_count": null
  },
  {
   "metadata": {},
   "cell_type": "code",
   "source": [
    "i=4\n",
    "type(i)"
   ],
   "id": "346ca0d46cad1296",
   "outputs": [],
   "execution_count": null
  },
  {
   "metadata": {},
   "cell_type": "code",
   "source": [
    "f=4.1\n",
    "type(f)"
   ],
   "id": "18627ea4a21d12bf",
   "outputs": [],
   "execution_count": null
  },
  {
   "metadata": {},
   "cell_type": "code",
   "source": [
    "b=True\n",
    "type(b)"
   ],
   "id": "910660345e904e30",
   "outputs": [],
   "execution_count": null
  },
  {
   "metadata": {},
   "cell_type": "code",
   "source": [
    "s=\"This is a string\"\n",
    "print(s)"
   ],
   "id": "54dee282f7764875",
   "outputs": [],
   "execution_count": null
  },
  {
   "metadata": {},
   "cell_type": "code",
   "source": [
    "l=[3,1,2]\n",
    "print(l)"
   ],
   "id": "267731f8a310b55e",
   "outputs": [],
   "execution_count": null
  },
  {
   "metadata": {},
   "cell_type": "code",
   "source": [
    "d={'foo':1,'bar':2.3, 's':'my first dictionary'}\n",
    "print(d)    \n",
    "print(d['foo'])"
   ],
   "id": "5c47b3f16b47bdf9",
   "outputs": [],
   "execution_count": null
  },
  {
   "metadata": {},
   "cell_type": "code",
   "source": [
    "n=None\n",
    "type(n)"
   ],
   "id": "d1e99907a1328c2b",
   "outputs": [],
   "execution_count": null
  },
  {
   "metadata": {},
   "cell_type": "code",
   "source": [
    "import math\n",
    "p = math.pow(10,2)\n",
    "print(\"Возведение числа 10 в квадрат\", p)"
   ],
   "id": "31eb610352c10628",
   "outputs": [],
   "execution_count": null
  },
  {
   "metadata": {},
   "cell_type": "code",
   "source": [
    "i=7\n",
    "n=False\n",
    "print('Our first value is %s.Our second value is %s.'%(n,i))"
   ],
   "id": "dbc19b40831b57ff",
   "outputs": [],
   "execution_count": null
  },
  {
   "metadata": {},
   "cell_type": "code",
   "source": [
    "# три примера с использованием math\n",
    "import math\n",
    "p= math.sqrt(25)\n",
    "print(p)\n",
    "\n",
    "l=math.cos(math.radians(60))\n",
    "print(l)\n",
    "\n",
    "b=math.sin(math.radians(30))\n",
    "print(b)"
   ],
   "id": "cca6f14d9ea48f3d",
   "outputs": [],
   "execution_count": null
  },
  {
   "metadata": {},
   "cell_type": "code",
   "source": [
    "i = 4\n",
    "f = 4.1\n",
    "\n",
    "if i==1 and f<4:\n",
    "    print(\"The value of i is 1 and f is greater than 4\")\n",
    "elif i>4 or f>4:\n",
    "    print(\"i or f are both greater than 4\")\n",
    "else:\n",
    "    print(\"both i and f are less than or equal to 4\")"
   ],
   "id": "cfeb4a117b68d529",
   "outputs": [],
   "execution_count": null
  },
  {
   "metadata": {},
   "cell_type": "code",
   "source": [
    "l=[3,1,2]\n",
    "print(l)\n",
    "\n",
    "for e in l:\n",
    "    print(e)"
   ],
   "id": "149832873d44fef8",
   "outputs": [],
   "execution_count": null
  },
  {
   "metadata": {},
   "cell_type": "code",
   "source": [
    "for n in range(10):\n",
    "    print(\"Это числа от 1 до 10\",n)"
   ],
   "id": "368b5aeb9da4728f",
   "outputs": [],
   "execution_count": null
  },
  {
   "metadata": {},
   "cell_type": "code",
   "source": [
    "counter=6\n",
    "while counter<10:\n",
    "    print(counter)\n",
    "    counter+=1"
   ],
   "id": "1b6b231ffcebcb96",
   "outputs": [],
   "execution_count": null
  },
  {
   "metadata": {},
   "cell_type": "code",
   "source": [
    "def add2(x):\n",
    "    y = x+2\n",
    "    return y\n",
    "i=5\n",
    "add2(i)\n"
   ],
   "id": "4b2fb0c9d903d86d",
   "outputs": [],
   "execution_count": null
  },
  {
   "metadata": {},
   "cell_type": "code",
   "source": [
    "square = lambda x: x*x\n",
    "square(5)"
   ],
   "id": "2190fe7529527b02",
   "outputs": [],
   "execution_count": null
  },
  {
   "metadata": {},
   "cell_type": "code",
   "source": [
    "x = lambda a, b:a*b\n",
    "x(5,6)"
   ],
   "id": "da3fba4753358c61",
   "outputs": [],
   "execution_count": null
  },
  {
   "metadata": {},
   "cell_type": "code",
   "source": [
    "x = lambda a,b,c:a+b+c\n",
    "x(5,6,2)"
   ],
   "id": "1be46b9e7c954c5c",
   "outputs": [],
   "execution_count": null
  },
  {
   "metadata": {},
   "cell_type": "markdown",
   "source": [
    "<h1>Heading 1</h1>\n",
    "<h2>Heading 2</h2>\n",
    "<h3>Heading 3</h3>\n",
    "<h4>Heading 4</h4>\n",
    "<h5>Heading 5</h5>\n",
    "<h6>Heading 6</h6>\n"
   ],
   "id": "fb1ee1cac420345c"
  },
  {
   "metadata": {},
   "cell_type": "markdown",
   "source": "<img src='https://encrypted-tbn0.gstatic.com/images?q=tbn:ANd9GcScDf_Ep1nSHETPKv6j2oDp1DrM-FePAz2XEA&s' width='250'>",
   "id": "ba3b9ed80dc6ef84"
  },
  {
   "metadata": {},
   "cell_type": "markdown",
   "source": [
    "\\begin{equation*}\n",
    "\\left(sum_{k=1}^n a_k b_k\\right)^2\n",
    "\\end{equation*}"
   ],
   "id": "5971a1bbdfa8c3f5"
  },
  {
   "metadata": {},
   "cell_type": "markdown",
   "source": [
    "\\begin{equation*}\n",
    "(E=mc^2)\n",
    "\\end{equation*}"
   ],
   "id": "9180cefd802ec219"
  },
  {
   "metadata": {
    "ExecuteTime": {
     "end_time": "2024-09-15T17:42:38.796199Z",
     "start_time": "2024-09-15T17:42:38.724399Z"
    }
   },
   "cell_type": "code",
   "source": "! ipconfig",
   "id": "92cab273a1ec9206",
   "outputs": [
    {
     "name": "stdout",
     "output_type": "stream",
     "text": [
      "\n",
      "Ќ бва®©Є  Їа®в®Є®«  IP ¤«п Windows\n",
      "\n",
      "\n",
      "Ђ¤ ЇвҐа Ethernet Ethernet 2:\n",
      "\n",
      "   DNS-бгддЁЄб Ї®¤Є«озҐ­Ёп . . . . . : \n",
      "   ‹®Є «м­л© IPv6- ¤аҐб Є ­ «  . . . : fe80::b31:42e6:1ff4:e0%8\n",
      "   IPv4- ¤аҐб. . . . . . . . . . . . : 192.168.56.1\n",
      "   Њ бЄ  Ї®¤бҐвЁ . . . . . . . . . . : 255.255.255.0\n",
      "   Ћб­®ў­®© и«о§. . . . . . . . . : \n",
      "\n",
      "Ђ¤ ЇвҐа ЎҐбЇа®ў®¤­®© «®Є «м­®© бҐвЁ Џ®¤Є«озҐ­ЁҐ Ї® «®Є «м­®© бҐвЁ* 1:\n",
      "\n",
      "   ‘®бв®п­ЁҐ баҐ¤л. . . . . . . . : ‘аҐ¤  ЇҐаҐ¤ зЁ ­Ґ¤®бвгЇ­ .\n",
      "   DNS-бгддЁЄб Ї®¤Є«озҐ­Ёп . . . . . : \n",
      "\n",
      "Ђ¤ ЇвҐа ЎҐбЇа®ў®¤­®© «®Є «м­®© бҐвЁ Џ®¤Є«озҐ­ЁҐ Ї® «®Є «м­®© бҐвЁ* 2:\n",
      "\n",
      "   ‘®бв®п­ЁҐ баҐ¤л. . . . . . . . : ‘аҐ¤  ЇҐаҐ¤ зЁ ­Ґ¤®бвгЇ­ .\n",
      "   DNS-бгддЁЄб Ї®¤Є«озҐ­Ёп . . . . . : \n",
      "\n",
      "Ђ¤ ЇвҐа ЎҐбЇа®ў®¤­®© «®Є «м­®© бҐвЁ ЃҐбЇа®ў®¤­ п бҐвм:\n",
      "\n",
      "   DNS-бгддЁЄб Ї®¤Є«озҐ­Ёп . . . . . : \n",
      "   ‹®Є «м­л© IPv6- ¤аҐб Є ­ «  . . . : fe80::ce13:68d4:131c:c85f%11\n",
      "   IPv4- ¤аҐб. . . . . . . . . . . . : 192.168.0.107\n",
      "   Њ бЄ  Ї®¤бҐвЁ . . . . . . . . . . : 255.255.255.0\n",
      "   Ћб­®ў­®© и«о§. . . . . . . . . : 192.168.0.1\n",
      "\n",
      "Ђ¤ ЇвҐа Ethernet ‘ҐвҐў®Ґ Ї®¤Є«озҐ­ЁҐ Bluetooth:\n",
      "\n",
      "   ‘®бв®п­ЁҐ баҐ¤л. . . . . . . . : ‘аҐ¤  ЇҐаҐ¤ зЁ ­Ґ¤®бвгЇ­ .\n",
      "   DNS-бгддЁЄб Ї®¤Є«озҐ­Ёп . . . . . : \n"
     ]
    }
   ],
   "execution_count": 48
  },
  {
   "metadata": {
    "ExecuteTime": {
     "end_time": "2024-09-15T17:43:01.689586Z",
     "start_time": "2024-09-15T17:42:58.352866Z"
    }
   },
   "cell_type": "code",
   "source": "! ping google.com",
   "id": "fa5aa72ee62c5493",
   "outputs": [
    {
     "name": "stdout",
     "output_type": "stream",
     "text": [
      "\n",
      "ЋЎ¬Ґ­ Ї ЄҐв ¬Ё б google.com [216.58.210.142] б 32 Ў ©в ¬Ё ¤ ­­ле:\n",
      "ЋвўҐв ®в 216.58.210.142: зЁб«® Ў ©в=32 ўаҐ¬п=106¬б TTL=54\n",
      "ЋвўҐв ®в 216.58.210.142: зЁб«® Ў ©в=32 ўаҐ¬п=241¬б TTL=54\n",
      "ЋвўҐв ®в 216.58.210.142: зЁб«® Ў ©в=32 ўаҐ¬п=85¬б TTL=54\n",
      "ЋвўҐв ®в 216.58.210.142: зЁб«® Ў ©в=32 ўаҐ¬п=204¬б TTL=54\n",
      "\n",
      "‘в вЁбвЁЄ  Ping ¤«п 216.58.210.142:\n",
      "    Џ ЄҐв®ў: ®вЇа ў«Ґ­® = 4, Ї®«гзҐ­® = 4, Ї®вҐап­® = 0\n",
      "    (0% Ї®вҐам)\n",
      "ЏаЁЎ«Ё§ЁвҐ«м­®Ґ ўаҐ¬п ЇаЁҐ¬ -ЇҐаҐ¤ зЁ ў ¬б:\n",
      "    ЊЁ­Ё¬ «м­®Ґ = 85¬бҐЄ, Њ ЄбЁ¬ «м­®Ґ = 241 ¬бҐЄ, ‘аҐ¤­ҐҐ = 159 ¬бҐЄ\n"
     ]
    }
   ],
   "execution_count": 49
  },
  {
   "metadata": {
    "ExecuteTime": {
     "end_time": "2024-09-15T17:50:37.506899Z",
     "start_time": "2024-09-15T17:50:37.501439Z"
    }
   },
   "cell_type": "code",
   "source": [
    "# 4.Напишите функцию, которая производит вычисление по формуле:\n",
    "# f=(9πt+10 cos⁡〖(x〗))/(√t-sin⁡〖(x)〗 ) e^(-2t)\n",
    "\n",
    "def f(x,t):\n",
    "    up = 9*math.pi*t + 10*math.cos(x)*math.e**(-2*t)\n",
    "    down = math.sqrt(t)-math.sin(x)\n",
    "    return up/down\n",
    "f(1,10)"
   ],
   "id": "65eaf786c74cbef8",
   "outputs": [
    {
     "data": {
      "text/plain": [
       "121.82976800094747"
      ]
     },
     "execution_count": 51,
     "metadata": {},
     "output_type": "execute_result"
    }
   ],
   "execution_count": 51
  },
  {
   "metadata": {
    "ExecuteTime": {
     "end_time": "2024-09-15T18:17:23.500725Z",
     "start_time": "2024-09-15T18:17:23.495704Z"
    }
   },
   "cell_type": "code",
   "source": [
    "# 5.\tНапишите функцию, которая из трех чисел находит все принадлежащие интервалу от a до b (границы интервала задать произвольно).\n",
    "\n",
    "def f(k,l,m):\n",
    "    a=10\n",
    "    b=15\n",
    "    result = []\n",
    "    if k>=a and k<=b:\n",
    "        result.append(k)\n",
    "    if l>=a and l<=b:\n",
    "        result.append(l)\n",
    "    if m>=a and m<=b:\n",
    "        result.append(m)\n",
    "    return result\n",
    "f(10,6,8)\n"
   ],
   "id": "143ab34cefa6e3de",
   "outputs": [
    {
     "data": {
      "text/plain": [
       "[10]"
      ]
     },
     "execution_count": 54,
     "metadata": {},
     "output_type": "execute_result"
    }
   ],
   "execution_count": 54
  },
  {
   "metadata": {
    "ExecuteTime": {
     "end_time": "2024-09-15T18:24:42.561424Z",
     "start_time": "2024-09-15T18:24:42.555670Z"
    }
   },
   "cell_type": "code",
   "source": [
    "#6.\tСоздайте генератор 20-ти случайных чисел в диапазоне от 0 до 10.\n",
    "\n",
    "import random\n",
    "\n",
    "\n",
    "def randomNumbers():\n",
    "    a=0\n",
    "    b=10\n",
    "    for i in range(20):\n",
    "        print(random.randint(a, b+1))\n",
    "randomNumbers()"
   ],
   "id": "dc3e10bf89a354dd",
   "outputs": [
    {
     "name": "stdout",
     "output_type": "stream",
     "text": [
      "6\n",
      "10\n",
      "9\n",
      "9\n",
      "6\n",
      "1\n",
      "4\n",
      "10\n",
      "8\n",
      "0\n",
      "9\n",
      "6\n",
      "6\n",
      "2\n",
      "6\n",
      "2\n",
      "7\n",
      "7\n",
      "8\n",
      "10\n"
     ]
    }
   ],
   "execution_count": 63
  },
  {
   "metadata": {
    "ExecuteTime": {
     "end_time": "2024-09-15T18:29:26.937962Z",
     "start_time": "2024-09-15T18:29:26.932195Z"
    }
   },
   "cell_type": "code",
   "source": [
    "#\tВычислите сумму 20 элементов последовательности: \n",
    "#   1/(2+3),2/(3+4),3/(4+5)…\n",
    "\n",
    "def sumIteration():\n",
    "    a=1\n",
    "    b=2\n",
    "    c=3\n",
    "    result=0\n",
    "    for i in range(20):\n",
    "        result+=a/(b+c)\n",
    "        a+=1\n",
    "        b+=1\n",
    "        c+=1\n",
    "    return result\n",
    "sumIteration()"
   ],
   "id": "d0c83869c3f57c96",
   "outputs": [
    {
     "data": {
      "text/plain": [
       "8.209021097669307"
      ]
     },
     "execution_count": 64,
     "metadata": {},
     "output_type": "execute_result"
    }
   ],
   "execution_count": 64
  },
  {
   "metadata": {},
   "cell_type": "markdown",
   "source": "",
   "id": "b50eed728cd5c1f"
  },
  {
   "metadata": {},
   "cell_type": "markdown",
   "source": [
    "<h1>1. Почему для работы с большими данными и машинным обучением выбирают Python? Перечислите не менее трех причин.</h1>\n",
    "    <ol>\n",
    "        <li>Упрощённый синтаксис.</li>\n",
    "        <li>Широкий набор библиотек для работы с массивами данных (например, numpy позволяет создавать ИИ без дополнительных фреймворков).</li>\n",
    "        <li>Большое количество уже готовых библиотек и фреймворков для обработки данных (такие как TensorFlow, PyTorch, Tinygrad).</li>\n",
    "    </ol>\n",
    "\n",
    "  <h1>2. В чем особенности Jupyter Notebook, почему его выбирают специалисты по Data Science?</h1>\n",
    "  <p>Jupyter Notebook позволяет использовать разметку и запускать отдельные блоки кода независимо друг от друга.</p>\n",
    "\n",
    "  <h1>3. Перечислите основные библиотеки Python для машинного обучения.</h1>\n",
    "  <p>TensorFlow, PyTorch, TinyAI.</p>\n",
    "\n",
    "   <h1>4. Какие типы данных Python вам известны?</h1>\n",
    "   <p>int, float, str, list, tuple, set, dict.</p>\n",
    "\n",
    "   <h1>5. Назовите основные языковые конструкции Python.</h1>\n",
    "   <p>Циклы, условные операторы, функции, классы.</p>\n",
    "\n",
    "   <h1>6. Каково назначение оператора if…else?</h1>\n",
    "   <p>Для проверки выполнения условия. Если условие истинно, выполняется определённый блок кода,иначе — другой.</p>\n",
    "\n",
    "   <h1>7. Когда заканчивается выполнение оператора while?</h1>\n",
    "   <p>Цикл продолжается, пока условие истинно. Условие проверяется перед каждой новой итерацией.</p>\n",
    "\n",
    "   <h1>8. Какие способы задания функций существуют в Python?</h1>\n",
    "   <p>Анонимные функции (лямбда-функции) и стандартное объявление функций с помощью <code>def</code.</p>\n",
    "\n",
    "   <h1>9. Что такое лямбда-функция?</h1>\n",
    "   <p>Это анонимная функция, которая не имеет имени.</p>\n",
    "\n",
    "   <h1>10. Какая библиотека Python используется для выполнения основных математических функций?</h1>\n",
    "   <p>math.</p>\n",
    "\n",
    "   <h1>11. Назовите дополнительные возможности использования среды Jupyter Notebook.</h1>\n",
    "   <p>Поддержка различных языков программирования и работа с большими объемами данных.</p>"
   ],
   "id": "3c5b6f72270d1957"
  },
  {
   "metadata": {},
   "cell_type": "code",
   "outputs": [],
   "execution_count": null,
   "source": "",
   "id": "55ac3c10b709e7ac"
  }
 ],
 "metadata": {
  "kernelspec": {
   "display_name": "Python 3",
   "language": "python",
   "name": "python3"
  },
  "language_info": {
   "codemirror_mode": {
    "name": "ipython",
    "version": 2
   },
   "file_extension": ".py",
   "mimetype": "text/x-python",
   "name": "python",
   "nbconvert_exporter": "python",
   "pygments_lexer": "ipython2",
   "version": "2.7.6"
  }
 },
 "nbformat": 4,
 "nbformat_minor": 5
}
